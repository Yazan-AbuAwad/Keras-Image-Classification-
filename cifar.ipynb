{
  "nbformat": 4,
  "nbformat_minor": 0,
  "metadata": {
    "colab": {
      "provenance": []
    },
    "kernelspec": {
      "name": "python3",
      "display_name": "Python 3"
    },
    "language_info": {
      "name": "python"
    },
    "accelerator": "GPU"
  },
  "cells": [
    {
      "cell_type": "code",
      "execution_count": 1,
      "metadata": {
        "id": "qRXdbGd1RluY"
      },
      "outputs": [],
      "source": [
        "from keras.models import Sequential\n",
        "from keras.layers import Conv2D, MaxPooling2D, Dense, Flatten, RandomFlip, Dropout, InputLayer, GlobalAveragePooling2D\n",
        "from tensorflow.keras.optimizers import Adam\n",
        "from keras.regularizers import L2\n",
        "from keras.callbacks import EarlyStopping\n",
        "from keras.preprocessing.image import ImageDataGenerator\n",
        "import keras"
      ]
    },
    {
      "cell_type": "code",
      "source": [
        "from keras.datasets import cifar10\n",
        "from tensorflow.keras.utils import to_categorical\n",
        "\n",
        "def load_preprocess():\n",
        "    # Loading the cifar-10 dataset\n",
        "    (trainX, trainY), (testX, testY) = cifar10.load_data()\n",
        "\n",
        "    # Converting to float and normalizing the pixels\n",
        "    trainX = trainX.astype('float32')\n",
        "    trainX = trainX / 255.0\n",
        "    testX = testX.astype('float32')\n",
        "    testX = testX / 255.0\n",
        "\n",
        "    # Applying one-hot encoding to the lables\n",
        "    trainY = to_categorical(trainY)\n",
        "    testY = to_categorical(testY)\n",
        "    \n",
        "    return trainX, trainY, testX, testY"
      ],
      "metadata": {
        "id": "ZsuFghgmSSRr"
      },
      "execution_count": 2,
      "outputs": []
    },
    {
      "cell_type": "code",
      "source": [
        "def get_model():\n",
        "    model = Sequential([\n",
        "        InputLayer(input_shape=(32, 32, 3)),\n",
        "        Conv2D(32, (3, 3), activation='relu', kernel_initializer='he_uniform', padding='same'),\n",
        "        Dropout(0.2),\n",
        "        Conv2D(32, (3, 3), activation='relu', kernel_initializer='he_uniform', padding='same'),\n",
        "        MaxPooling2D((2, 2)),\n",
        "        Conv2D(64, (3, 3), activation='relu', kernel_initializer='he_uniform', padding='same'),\n",
        "        Conv2D(64, (3, 3), activation='relu', kernel_initializer='he_uniform', padding='same'),\n",
        "        MaxPooling2D((2, 2)),\n",
        "        Conv2D(128, (3, 3), activation='relu', kernel_initializer='he_uniform', padding='same'),\n",
        "        Conv2D(128, (2, 2), activation='relu', kernel_initializer='he_uniform', padding='same'),\n",
        "        Dropout(0.5),\n",
        "        MaxPooling2D((2, 2)),\n",
        "        Flatten(),\n",
        "        Dense(128, activation='relu', kernel_initializer='he_uniform',kernel_regularizer=L2(0.001)),\n",
        "        Dense(10, activation='softmax')\n",
        "    ])\n",
        "\n",
        "    model.compile(optimizer=Adam(), loss='categorical_crossentropy', metrics=['accuracy'])\n",
        "    return model"
      ],
      "metadata": {
        "id": "34laStQqRpUs"
      },
      "execution_count": 3,
      "outputs": []
    },
    {
      "cell_type": "code",
      "source": [
        "BATCH_SIZE = 128\n",
        "train_x, train_y, test_x, test_y = load_preprocess()\n",
        "\n",
        "model = get_model()\n",
        "generator = ImageDataGenerator(zoom_range=[0.8,1.2], rotation_range=15, width_shift_range=.17, height_shift_range=.17, horizontal_flip=True)\n",
        "train_iterator = generator.flow(train_x, train_y, batch_size=BATCH_SIZE)\n",
        "steps=int(train_x.shape[0]/BATCH_SIZE)\n",
        "history = model.fit_generator(train_iterator,steps_per_epoch=steps,epochs=40,validation_data=(test_x,test_y),callbacks=EarlyStopping(monitor='val_loss',min_delta=0.1,patience=10,mode='auto',restore_best_weights=True)) "
      ],
      "metadata": {
        "colab": {
          "base_uri": "https://localhost:8080/"
        },
        "id": "WLG6GC5rRxCD",
        "outputId": "bcf7de02-826d-4ac1-8383-16a1ca3a8ff8"
      },
      "execution_count": 4,
      "outputs": [
        {
          "output_type": "stream",
          "name": "stdout",
          "text": [
            "Downloading data from https://www.cs.toronto.edu/~kriz/cifar-10-python.tar.gz\n",
            "170500096/170498071 [==============================] - 2s 0us/step\n",
            "170508288/170498071 [==============================] - 2s 0us/step\n"
          ]
        },
        {
          "output_type": "stream",
          "name": "stderr",
          "text": [
            "/usr/local/lib/python3.7/dist-packages/ipykernel_launcher.py:8: UserWarning: `Model.fit_generator` is deprecated and will be removed in a future version. Please use `Model.fit`, which supports generators.\n",
            "  \n"
          ]
        },
        {
          "output_type": "stream",
          "name": "stdout",
          "text": [
            "Epoch 1/40\n",
            "390/390 [==============================] - 39s 65ms/step - loss: 1.9924 - accuracy: 0.3222 - val_loss: 1.7875 - val_accuracy: 0.4579\n",
            "Epoch 2/40\n",
            "390/390 [==============================] - 26s 67ms/step - loss: 1.5945 - accuracy: 0.4543 - val_loss: 1.4702 - val_accuracy: 0.5499\n",
            "Epoch 3/40\n",
            "390/390 [==============================] - 25s 65ms/step - loss: 1.4142 - accuracy: 0.5166 - val_loss: 1.3175 - val_accuracy: 0.5703\n",
            "Epoch 4/40\n",
            "390/390 [==============================] - 25s 63ms/step - loss: 1.2721 - accuracy: 0.5684 - val_loss: 1.1894 - val_accuracy: 0.6257\n",
            "Epoch 5/40\n",
            "390/390 [==============================] - 25s 64ms/step - loss: 1.1878 - accuracy: 0.5965 - val_loss: 1.0919 - val_accuracy: 0.6474\n",
            "Epoch 6/40\n",
            "390/390 [==============================] - 25s 64ms/step - loss: 1.1123 - accuracy: 0.6259 - val_loss: 0.9773 - val_accuracy: 0.6935\n",
            "Epoch 7/40\n",
            "390/390 [==============================] - 25s 64ms/step - loss: 1.0424 - accuracy: 0.6527 - val_loss: 0.9382 - val_accuracy: 0.7103\n",
            "Epoch 8/40\n",
            "390/390 [==============================] - 25s 63ms/step - loss: 0.9881 - accuracy: 0.6723 - val_loss: 0.9743 - val_accuracy: 0.6817\n",
            "Epoch 9/40\n",
            "390/390 [==============================] - 25s 64ms/step - loss: 0.9523 - accuracy: 0.6847 - val_loss: 0.8402 - val_accuracy: 0.7378\n",
            "Epoch 10/40\n",
            "390/390 [==============================] - 25s 64ms/step - loss: 0.9164 - accuracy: 0.6979 - val_loss: 0.8438 - val_accuracy: 0.7300\n",
            "Epoch 11/40\n",
            "390/390 [==============================] - 25s 64ms/step - loss: 0.8954 - accuracy: 0.7074 - val_loss: 0.8160 - val_accuracy: 0.7333\n",
            "Epoch 12/40\n",
            "390/390 [==============================] - 26s 65ms/step - loss: 0.8647 - accuracy: 0.7199 - val_loss: 0.7862 - val_accuracy: 0.7555\n",
            "Epoch 13/40\n",
            "390/390 [==============================] - 25s 64ms/step - loss: 0.8447 - accuracy: 0.7262 - val_loss: 0.7941 - val_accuracy: 0.7431\n",
            "Epoch 14/40\n",
            "390/390 [==============================] - 25s 65ms/step - loss: 0.8319 - accuracy: 0.7288 - val_loss: 0.7189 - val_accuracy: 0.7765\n",
            "Epoch 15/40\n",
            "390/390 [==============================] - 25s 64ms/step - loss: 0.8072 - accuracy: 0.7382 - val_loss: 0.7004 - val_accuracy: 0.7839\n",
            "Epoch 16/40\n",
            "390/390 [==============================] - 25s 64ms/step - loss: 0.7938 - accuracy: 0.7446 - val_loss: 0.6949 - val_accuracy: 0.7828\n",
            "Epoch 17/40\n",
            "390/390 [==============================] - 25s 65ms/step - loss: 0.7765 - accuracy: 0.7483 - val_loss: 0.6881 - val_accuracy: 0.7910\n",
            "Epoch 18/40\n",
            "390/390 [==============================] - 25s 63ms/step - loss: 0.7610 - accuracy: 0.7544 - val_loss: 0.7182 - val_accuracy: 0.7805\n",
            "Epoch 19/40\n",
            "390/390 [==============================] - 25s 64ms/step - loss: 0.7522 - accuracy: 0.7571 - val_loss: 0.7534 - val_accuracy: 0.7627\n",
            "Epoch 20/40\n",
            "390/390 [==============================] - 25s 64ms/step - loss: 0.7368 - accuracy: 0.7652 - val_loss: 0.6548 - val_accuracy: 0.8006\n",
            "Epoch 21/40\n",
            "390/390 [==============================] - 25s 64ms/step - loss: 0.7291 - accuracy: 0.7660 - val_loss: 0.6499 - val_accuracy: 0.8018\n",
            "Epoch 22/40\n",
            "390/390 [==============================] - 25s 64ms/step - loss: 0.7109 - accuracy: 0.7731 - val_loss: 0.6858 - val_accuracy: 0.7944\n",
            "Epoch 23/40\n",
            "390/390 [==============================] - 25s 64ms/step - loss: 0.7113 - accuracy: 0.7719 - val_loss: 0.6641 - val_accuracy: 0.7914\n",
            "Epoch 24/40\n",
            "390/390 [==============================] - 25s 63ms/step - loss: 0.6963 - accuracy: 0.7766 - val_loss: 0.6389 - val_accuracy: 0.8053\n"
          ]
        }
      ]
    },
    {
      "cell_type": "code",
      "source": [
        "import matplotlib.pyplot as plt\n",
        "plt.plot(history.history['accuracy'])\n",
        "plt.plot(history.history['val_accuracy'])\n",
        "plt.title('model accuracy')\n",
        "plt.ylabel('accuracy')\n",
        "plt.xlabel('epoch')\n",
        "plt.legend(['train', 'val'], loc='upper left')\n",
        "plt.show()"
      ],
      "metadata": {
        "colab": {
          "base_uri": "https://localhost:8080/",
          "height": 295
        },
        "id": "6e6F6L4oQQaa",
        "outputId": "c434e570-465b-452b-e4bb-fa6ef895c1d4"
      },
      "execution_count": 5,
      "outputs": [
        {
          "output_type": "display_data",
          "data": {
            "text/plain": [
              "<Figure size 432x288 with 1 Axes>"
            ],
            "image/png": "[encoded data removed]"
          },
          "metadata": {
            "needs_background": "light"
          }
        }
      ]
    }
  ]
}